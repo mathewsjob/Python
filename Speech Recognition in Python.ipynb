{
 "cells": [
  {
   "cell_type": "markdown",
   "id": "8f4764bc",
   "metadata": {},
   "source": [
    "# Speech Recognition in Python"
   ]
  },
  {
   "cell_type": "code",
   "execution_count": 11,
   "id": "477b8989",
   "metadata": {},
   "outputs": [
    {
     "name": "stdout",
     "output_type": "stream",
     "text": [
      "Requirement already satisfied: SpeechRecognition in /home/mathews/anaconda3/lib/python3.8/site-packages (3.8.1)\n",
      "Note: you may need to restart the kernel to use updated packages.\n"
     ]
    }
   ],
   "source": [
    "pip install SpeechRecognition"
   ]
  },
  {
   "cell_type": "code",
   "execution_count": 12,
   "id": "3f05fc2a",
   "metadata": {},
   "outputs": [
    {
     "name": "stdout",
     "output_type": "stream",
     "text": [
      "Requirement already satisfied: PyAudio in /home/mathews/anaconda3/lib/python3.8/site-packages (0.2.11)\n",
      "Note: you may need to restart the kernel to use updated packages.\n"
     ]
    }
   ],
   "source": [
    "pip install PyAudio"
   ]
  },
  {
   "cell_type": "code",
   "execution_count": 3,
   "id": "04973bd8",
   "metadata": {},
   "outputs": [],
   "source": [
    "import speech_recognition as sr"
   ]
  },
  {
   "cell_type": "code",
   "execution_count": 10,
   "id": "9ccbfe9e",
   "metadata": {},
   "outputs": [
    {
     "name": "stdout",
     "output_type": "stream",
     "text": [
      "Talk Now\n",
      "Time Over,Thanks\n",
      "Text :hello my name is not used\n"
     ]
    }
   ],
   "source": [
    "r = sr.Recognizer()\n",
    "\n",
    "with sr.Microphone() as source:\n",
    "    print(\"Talk Now\")\n",
    "    audio_text = r.listen(source)\n",
    "    print(\"Time Over,Thanks\")\n",
    "    \n",
    "    try:\n",
    "        print(\"Text :\"+r.recognize_google(audio_text))\n",
    "    except:\n",
    "        print(\"Sorry, I didn't get that\")"
   ]
  },
  {
   "cell_type": "raw",
   "id": "723237c1",
   "metadata": {},
   "source": []
  }
 ],
 "metadata": {
  "kernelspec": {
   "display_name": "Python 3",
   "language": "python",
   "name": "python3"
  },
  "language_info": {
   "codemirror_mode": {
    "name": "ipython",
    "version": 3
   },
   "file_extension": ".py",
   "mimetype": "text/x-python",
   "name": "python",
   "nbconvert_exporter": "python",
   "pygments_lexer": "ipython3",
   "version": "3.8.8"
  }
 },
 "nbformat": 4,
 "nbformat_minor": 5
}
